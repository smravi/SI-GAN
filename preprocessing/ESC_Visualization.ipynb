{
 "cells": [
  {
   "cell_type": "code",
   "execution_count": 88,
   "metadata": {
    "collapsed": true
   },
   "outputs": [],
   "source": [
    "import librosa\n",
    "import librosa.display\n",
    "import numpy as np\n",
    "import matplotlib.pyplot as plt\n",
    "import os\n",
    "from util import *\n",
    "import glob \n",
    "import IPython.display\n",
    "import scipy\n",
    "import scipy.misc"
   ]
  },
  {
   "cell_type": "code",
   "execution_count": 3,
   "metadata": {
    "collapsed": true
   },
   "outputs": [],
   "source": [
    "def load_folder_list(path=\"\"):\n",
    "    \"\"\"Return a folder list in a folder by given a folder path.\n",
    "\n",
    "    Parameters\n",
    "    ----------\n",
    "    path : a string or None\n",
    "        A folder path.\n",
    "    \"\"\"\n",
    "    return [os.path.join(path,o) for o in os.listdir(path) if os.path.isdir(os.path.join(path,o))]"
   ]
  },
  {
   "cell_type": "code",
   "execution_count": 4,
   "metadata": {
    "collapsed": true
   },
   "outputs": [],
   "source": [
    "cwd = os.getcwd()\n",
    "data_dir = os.path.join(cwd,'ESC-50/')\n",
    "\n",
    "category_sub_dir = load_folder_list(data_dir)"
   ]
  },
  {
   "cell_type": "code",
   "execution_count": 5,
   "metadata": {
    "collapsed": true
   },
   "outputs": [],
   "source": [
    "cat_key = {}\n",
    "for i, sub_dir in enumerate(category_sub_dir):\n",
    "    cat_key[sub_dir.split('/')[-1]] = i"
   ]
  },
  {
   "cell_type": "code",
   "execution_count": 6,
   "metadata": {},
   "outputs": [
    {
     "data": {
      "text/plain": [
       "{'101 - Dog': 33,\n",
       " '102 - Rooster': 5,\n",
       " '103 - Pig': 49,\n",
       " '104 - Cow': 25,\n",
       " '105 - Frog': 4,\n",
       " '106 - Cat': 7,\n",
       " '107 - Hen': 2,\n",
       " '108 - Insects': 45,\n",
       " '109 - Sheep': 18,\n",
       " '110 - Crow': 8,\n",
       " '201 - Rain': 23,\n",
       " '202 - Sea waves': 15,\n",
       " '203 - Crackling fire': 14,\n",
       " '204 - Crickets': 44,\n",
       " '205 - Chirping birds': 39,\n",
       " '206 - Water drops': 29,\n",
       " '210 - Thunderstorm': 9,\n",
       " '301 - Crying baby': 37,\n",
       " '302 - Sneezing': 22,\n",
       " '303 - Clapping': 40,\n",
       " '304 - Breathing': 43,\n",
       " '305 - Coughing': 47,\n",
       " '306 - Footsteps': 41,\n",
       " '307 - Laughing': 31,\n",
       " '308 - Brushing teeth': 13,\n",
       " '309 - Snoring': 3,\n",
       " '310 - Drinking - sipping': 38,\n",
       " '401 - Door knock': 17,\n",
       " '402 - Mouse click': 21,\n",
       " '403 - Keyboard typing': 24,\n",
       " '404 - Door - wood creaks': 34,\n",
       " '405 - Can opening': 16,\n",
       " '406 - Washing machine': 27,\n",
       " '407 - Vacuum cleaner': 46,\n",
       " '408 - Clock alarm': 30,\n",
       " '409 - Clock tick': 48,\n",
       " '410 - Glass breaking': 42,\n",
       " '501 - Helicopter': 1,\n",
       " '502 - Chainsaw': 0,\n",
       " '503 - Siren': 32,\n",
       " '504 - Car horn': 20,\n",
       " '505 - Engine': 28,\n",
       " '506 - Train': 26,\n",
       " '507 - Church bells': 36,\n",
       " '508 - Airplane': 19,\n",
       " '509 - Fireworks': 6,\n",
       " '510 - Hand saw': 12,\n",
       " '601 - Air Conditioner': 11,\n",
       " '602 - Drilling': 35,\n",
       " '602 - JackHammer': 10}"
      ]
     },
     "execution_count": 6,
     "metadata": {},
     "output_type": "execute_result"
    }
   ],
   "source": [
    "cat_key"
   ]
  },
  {
   "cell_type": "code",
   "execution_count": 7,
   "metadata": {
    "collapsed": true
   },
   "outputs": [],
   "source": [
    "audios = np.load(\"esc_44_sound.py\")"
   ]
  },
  {
   "cell_type": "code",
   "execution_count": 45,
   "metadata": {
    "collapsed": true
   },
   "outputs": [],
   "source": [
    "images = np.load(\"esc_44_image.npy\")"
   ]
  },
  {
   "cell_type": "code",
   "execution_count": 16,
   "metadata": {
    "collapsed": true
   },
   "outputs": [],
   "source": [
    "dogs=glob.glob('/home/harshipr/Desktop/Fall2017/DL599/Projects/PreSound/ESC-50/101 - Dog/Audio/*')"
   ]
  },
  {
   "cell_type": "code",
   "execution_count": 47,
   "metadata": {},
   "outputs": [
    {
     "data": {
      "text/plain": [
       "(64, 64, 3)"
      ]
     },
     "execution_count": 47,
     "metadata": {},
     "output_type": "execute_result"
    }
   ],
   "source": [
    "images[19,-11,:,:,:].shape"
   ]
  },
  {
   "cell_type": "code",
   "execution_count": null,
   "metadata": {
    "collapsed": true
   },
   "outputs": [],
   "source": [
    "'/home/harshipr/Desktop/Fall2017/DL599/Projects/PreSound/ESC-50/101 - Dog/Audio/4-207124-A.ogg'"
   ]
  },
  {
   "cell_type": "code",
   "execution_count": 81,
   "metadata": {
    "collapsed": true
   },
   "outputs": [],
   "source": [
    "audios_f = audios[0].reshape(40,220500)"
   ]
  },
  {
   "cell_type": "code",
   "execution_count": 91,
   "metadata": {},
   "outputs": [],
   "source": [
    "clips = audios_f/44100"
   ]
  },
  {
   "cell_type": "code",
   "execution_count": 94,
   "metadata": {
    "collapsed": true
   },
   "outputs": [],
   "source": [
    "def merge(images, size):\n",
    "    h, w = images.shape[1], images.shape[2]\n",
    "    img = np.zeros((h * size[0], w * size[1], 3))\n",
    "    for idx, image in enumerate(images):\n",
    "        i = idx % size[1]\n",
    "        j = idx // size[1]\n",
    "        img[j*h:j*h+h, i*w:i*w+w, :] = image\n",
    "    return img"
   ]
  },
  {
   "cell_type": "code",
   "execution_count": 95,
   "metadata": {},
   "outputs": [
    {
     "data": {
      "text/plain": [
       "(40, 220500)"
      ]
     },
     "execution_count": 95,
     "metadata": {},
     "output_type": "execute_result"
    }
   ],
   "source": [
    "clips.shape"
   ]
  },
  {
   "cell_type": "code",
   "execution_count": 93,
   "metadata": {},
   "outputs": [
    {
     "ename": "IndexError",
     "evalue": "tuple index out of range",
     "output_type": "error",
     "traceback": [
      "\u001b[0;31m---------------------------------------------------------------------------\u001b[0m",
      "\u001b[0;31mIndexError\u001b[0m                                Traceback (most recent call last)",
      "\u001b[0;32m<ipython-input-93-6375960aee46>\u001b[0m in \u001b[0;36m<module>\u001b[0;34m()\u001b[0m\n\u001b[0;32m----> 1\u001b[0;31m \u001b[0mscipy\u001b[0m\u001b[0;34m.\u001b[0m\u001b[0mmisc\u001b[0m\u001b[0;34m.\u001b[0m\u001b[0mimsave\u001b[0m\u001b[0;34m(\u001b[0m\u001b[0;34m'merge.png'\u001b[0m\u001b[0;34m,\u001b[0m \u001b[0mmerge\u001b[0m\u001b[0;34m(\u001b[0m\u001b[0mclips\u001b[0m\u001b[0;34m,\u001b[0m \u001b[0;34m[\u001b[0m\u001b[0;36m8\u001b[0m\u001b[0;34m,\u001b[0m\u001b[0;36m5\u001b[0m\u001b[0;34m]\u001b[0m\u001b[0;34m)\u001b[0m\u001b[0;34m)\u001b[0m\u001b[0;34m\u001b[0m\u001b[0m\n\u001b[0m",
      "\u001b[0;32m<ipython-input-92-0d9595fd2def>\u001b[0m in \u001b[0;36mmerge\u001b[0;34m(images, size)\u001b[0m\n\u001b[1;32m      1\u001b[0m \u001b[0;32mdef\u001b[0m \u001b[0mmerge\u001b[0m\u001b[0;34m(\u001b[0m\u001b[0mimages\u001b[0m\u001b[0;34m,\u001b[0m \u001b[0msize\u001b[0m\u001b[0;34m)\u001b[0m\u001b[0;34m:\u001b[0m\u001b[0;34m\u001b[0m\u001b[0m\n\u001b[0;32m----> 2\u001b[0;31m     \u001b[0mh\u001b[0m\u001b[0;34m,\u001b[0m \u001b[0mw\u001b[0m \u001b[0;34m=\u001b[0m \u001b[0mimages\u001b[0m\u001b[0;34m.\u001b[0m\u001b[0mshape\u001b[0m\u001b[0;34m[\u001b[0m\u001b[0;36m1\u001b[0m\u001b[0;34m]\u001b[0m\u001b[0;34m,\u001b[0m \u001b[0mimages\u001b[0m\u001b[0;34m.\u001b[0m\u001b[0mshape\u001b[0m\u001b[0;34m[\u001b[0m\u001b[0;36m2\u001b[0m\u001b[0;34m]\u001b[0m\u001b[0;34m\u001b[0m\u001b[0m\n\u001b[0m\u001b[1;32m      3\u001b[0m     \u001b[0mimg\u001b[0m \u001b[0;34m=\u001b[0m \u001b[0mnp\u001b[0m\u001b[0;34m.\u001b[0m\u001b[0mzeros\u001b[0m\u001b[0;34m(\u001b[0m\u001b[0;34m(\u001b[0m\u001b[0mh\u001b[0m \u001b[0;34m*\u001b[0m \u001b[0msize\u001b[0m\u001b[0;34m[\u001b[0m\u001b[0;36m0\u001b[0m\u001b[0;34m]\u001b[0m\u001b[0;34m,\u001b[0m \u001b[0mw\u001b[0m \u001b[0;34m*\u001b[0m \u001b[0msize\u001b[0m\u001b[0;34m[\u001b[0m\u001b[0;36m1\u001b[0m\u001b[0;34m]\u001b[0m\u001b[0;34m,\u001b[0m \u001b[0;36m3\u001b[0m\u001b[0;34m)\u001b[0m\u001b[0;34m)\u001b[0m\u001b[0;34m\u001b[0m\u001b[0m\n\u001b[1;32m      4\u001b[0m     \u001b[0;32mfor\u001b[0m \u001b[0midx\u001b[0m\u001b[0;34m,\u001b[0m \u001b[0mimage\u001b[0m \u001b[0;32min\u001b[0m \u001b[0menumerate\u001b[0m\u001b[0;34m(\u001b[0m\u001b[0mimages\u001b[0m\u001b[0;34m)\u001b[0m\u001b[0;34m:\u001b[0m\u001b[0;34m\u001b[0m\u001b[0m\n\u001b[1;32m      5\u001b[0m         \u001b[0mi\u001b[0m \u001b[0;34m=\u001b[0m \u001b[0midx\u001b[0m \u001b[0;34m%\u001b[0m \u001b[0msize\u001b[0m\u001b[0;34m[\u001b[0m\u001b[0;36m1\u001b[0m\u001b[0;34m]\u001b[0m\u001b[0;34m\u001b[0m\u001b[0m\n",
      "\u001b[0;31mIndexError\u001b[0m: tuple index out of range"
     ]
    }
   ],
   "source": [
    "scipy.misc.imsave('merge.png', merge(clips, [8,5]))"
   ]
  },
  {
   "cell_type": "code",
   "execution_count": 83,
   "metadata": {},
   "outputs": [
    {
     "data": {
      "image/png": "[encoded data removed]",
      "text/plain": [
       "<matplotlib.figure.Figure at 0x7fa0394d1a58>"
      ]
     },
     "metadata": {},
     "output_type": "display_data"
    }
   ],
   "source": [
    "cat = 40\n",
    "idx = 15\n",
    "fig = plt.figure(figsize=(8,8))  \n",
    "clip = audios[cat,idx,:,:,:].reshape(-1)\n",
    "ax1 = plt.subplot(2, 1, 1)\n",
    "ax1.plot(np.arange(0, 220500) / 44100.0, clip)\n",
    "fig.savefig('pet.png')\n",
    "ax2 = plt.subplot(2, 1, 2)\n",
    "ax2.imshow(images[cat,idx,:,:,:])\n",
    "plt.show()\n",
    "librosa.output.write_wav('pet.wav', clip,sr=44100)"
   ]
  },
  {
   "cell_type": "code",
   "execution_count": 41,
   "metadata": {
    "collapsed": true
   },
   "outputs": [],
   "source": []
  },
  {
   "cell_type": "code",
   "execution_count": 20,
   "metadata": {},
   "outputs": [],
   "source": [
    "for clip in audios[33,-13,:,:,:]:\n",
    "    clip = clip.reshape(-1)\n",
    "    print(clip.shape)\n",
    "    plt.subplot(2, 1, 1)\n",
    "#     plt.title('{0} : {1}'.format(clip.category, clip.filename))\n",
    "    plt.plot(np.arange(0, len(clip)) / 44100.0, clip)\n",
    "    plt.show()\n",
    "#     print(len(audio.raw))\n",
    "   \n",
    "#     plt.subplot(2, 1, 2)\n",
    "#     librosa.display.specshow(clip.logamplitude, sr=44100, x_axis='frames', y_axis='linear', cmap='RdBu_r')"
   ]
  }
 ],
 "metadata": {
  "kernelspec": {
   "display_name": "Python 3",
   "language": "python",
   "name": "python3"
  },
  "language_info": {
   "codemirror_mode": {
    "name": "ipython",
    "version": 3
   },
   "file_extension": ".py",
   "mimetype": "text/x-python",
   "name": "python",
   "nbconvert_exporter": "python",
   "pygments_lexer": "ipython3",
   "version": "3.6.1"
  }
 },
 "nbformat": 4,
 "nbformat_minor": 2
}
